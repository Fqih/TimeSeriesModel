{
  "nbformat": 4,
  "nbformat_minor": 0,
  "metadata": {
    "colab": {
      "provenance": []
    },
    "kernelspec": {
      "name": "python3",
      "display_name": "Python 3"
    },
    "language_info": {
      "name": "python"
    }
  },
  "cells": [
    {
      "cell_type": "markdown",
      "source": [
        "# **Proyek Kedua : Membuat Model Machine Learning dengan Data Time**\n"
      ],
      "metadata": {
        "id": "ld1ZgH6o-Sp5"
      }
    },
    {
      "cell_type": "markdown",
      "source": [
        "\n",
        "\n",
        "*   Dataset yang akan dipakai bebas, namun minimal memiliki 1000 sampel.\n",
        "\n",
        "*   Harus menggunakan LSTM dalam arsitektur model.\n",
        "\n",
        "*  Validation set sebesar 20% dari total dataset.\n",
        "\n",
        "*  Model harus menggunakan model sequential.\n",
        "\n",
        "*  Harus menggunakan Learning Rate pada Optimizer.\n",
        "\n",
        "*  MAE < 10% skala data.\n"
      ],
      "metadata": {
        "id": "oneJFrzM2FSa"
      }
    },
    {
      "cell_type": "markdown",
      "source": [
        "Data Diri:\n",
        "\n",
        "\n",
        "\n",
        "\n",
        "> Nama : Muhammad Faqih Hakim\n",
        "\n"
      ],
      "metadata": {
        "id": "snYSsqvV2Ui7"
      }
    },
    {
      "cell_type": "markdown",
      "source": [
        "Import Library Yang dibutuhkan"
      ],
      "metadata": {
        "id": "mOALSzjO2cc8"
      }
    },
    {
      "cell_type": "code",
      "execution_count": 1,
      "metadata": {
        "id": "EHVvnnlJyeZ8"
      },
      "outputs": [],
      "source": [
        "import numpy as np\n",
        "import pandas as pd\n",
        "import matplotlib.pyplot as plt\n",
        "import tensorflow as tf\n",
        "from sklearn.model_selection import train_test_split"
      ]
    },
    {
      "cell_type": "markdown",
      "source": [
        "Dataset yang akan dipakai bebas, namun minimal memiliki 1000 sampel."
      ],
      "metadata": {
        "id": "34BFl58b2Th7"
      }
    },
    {
      "cell_type": "markdown",
      "source": [
        "Link Dataset : https://www.kaggle.com/datasets/shenba/time-series-datasets"
      ],
      "metadata": {
        "id": "gDYzp2Z_5eYT"
      }
    },
    {
      "cell_type": "code",
      "source": [
        "df = pd.read_csv('dataset.csv')\n",
        "df"
      ],
      "metadata": {
        "colab": {
          "base_uri": "https://localhost:8080/",
          "height": 423
        },
        "id": "tSyVbpIEy4Ts",
        "outputId": "68ead6b2-7455-4f5e-a617-451ceaf7dcef"
      },
      "execution_count": 2,
      "outputs": [
        {
          "output_type": "execute_result",
          "data": {
            "text/plain": [
              "            Date Daily minimum temperatures\n",
              "0       1/1/1981                       20.7\n",
              "1       1/2/1981                       17.9\n",
              "2       1/3/1981                       18.8\n",
              "3       1/4/1981                       14.6\n",
              "4       1/5/1981                       15.8\n",
              "...          ...                        ...\n",
              "3645  12/27/1990                         14\n",
              "3646  12/28/1990                       13.6\n",
              "3647  12/29/1990                       13.5\n",
              "3648  12/30/1990                       15.7\n",
              "3649  12/31/1990                         13\n",
              "\n",
              "[3650 rows x 2 columns]"
            ],
            "text/html": [
              "\n",
              "  <div id=\"df-f58e33f1-b26f-4330-8157-66e30c164da0\" class=\"colab-df-container\">\n",
              "    <div>\n",
              "<style scoped>\n",
              "    .dataframe tbody tr th:only-of-type {\n",
              "        vertical-align: middle;\n",
              "    }\n",
              "\n",
              "    .dataframe tbody tr th {\n",
              "        vertical-align: top;\n",
              "    }\n",
              "\n",
              "    .dataframe thead th {\n",
              "        text-align: right;\n",
              "    }\n",
              "</style>\n",
              "<table border=\"1\" class=\"dataframe\">\n",
              "  <thead>\n",
              "    <tr style=\"text-align: right;\">\n",
              "      <th></th>\n",
              "      <th>Date</th>\n",
              "      <th>Daily minimum temperatures</th>\n",
              "    </tr>\n",
              "  </thead>\n",
              "  <tbody>\n",
              "    <tr>\n",
              "      <th>0</th>\n",
              "      <td>1/1/1981</td>\n",
              "      <td>20.7</td>\n",
              "    </tr>\n",
              "    <tr>\n",
              "      <th>1</th>\n",
              "      <td>1/2/1981</td>\n",
              "      <td>17.9</td>\n",
              "    </tr>\n",
              "    <tr>\n",
              "      <th>2</th>\n",
              "      <td>1/3/1981</td>\n",
              "      <td>18.8</td>\n",
              "    </tr>\n",
              "    <tr>\n",
              "      <th>3</th>\n",
              "      <td>1/4/1981</td>\n",
              "      <td>14.6</td>\n",
              "    </tr>\n",
              "    <tr>\n",
              "      <th>4</th>\n",
              "      <td>1/5/1981</td>\n",
              "      <td>15.8</td>\n",
              "    </tr>\n",
              "    <tr>\n",
              "      <th>...</th>\n",
              "      <td>...</td>\n",
              "      <td>...</td>\n",
              "    </tr>\n",
              "    <tr>\n",
              "      <th>3645</th>\n",
              "      <td>12/27/1990</td>\n",
              "      <td>14</td>\n",
              "    </tr>\n",
              "    <tr>\n",
              "      <th>3646</th>\n",
              "      <td>12/28/1990</td>\n",
              "      <td>13.6</td>\n",
              "    </tr>\n",
              "    <tr>\n",
              "      <th>3647</th>\n",
              "      <td>12/29/1990</td>\n",
              "      <td>13.5</td>\n",
              "    </tr>\n",
              "    <tr>\n",
              "      <th>3648</th>\n",
              "      <td>12/30/1990</td>\n",
              "      <td>15.7</td>\n",
              "    </tr>\n",
              "    <tr>\n",
              "      <th>3649</th>\n",
              "      <td>12/31/1990</td>\n",
              "      <td>13</td>\n",
              "    </tr>\n",
              "  </tbody>\n",
              "</table>\n",
              "<p>3650 rows × 2 columns</p>\n",
              "</div>\n",
              "    <div class=\"colab-df-buttons\">\n",
              "\n",
              "  <div class=\"colab-df-container\">\n",
              "    <button class=\"colab-df-convert\" onclick=\"convertToInteractive('df-f58e33f1-b26f-4330-8157-66e30c164da0')\"\n",
              "            title=\"Convert this dataframe to an interactive table.\"\n",
              "            style=\"display:none;\">\n",
              "\n",
              "  <svg xmlns=\"http://www.w3.org/2000/svg\" height=\"24px\" viewBox=\"0 -960 960 960\">\n",
              "    <path d=\"M120-120v-720h720v720H120Zm60-500h600v-160H180v160Zm220 220h160v-160H400v160Zm0 220h160v-160H400v160ZM180-400h160v-160H180v160Zm440 0h160v-160H620v160ZM180-180h160v-160H180v160Zm440 0h160v-160H620v160Z\"/>\n",
              "  </svg>\n",
              "    </button>\n",
              "\n",
              "  <style>\n",
              "    .colab-df-container {\n",
              "      display:flex;\n",
              "      gap: 12px;\n",
              "    }\n",
              "\n",
              "    .colab-df-convert {\n",
              "      background-color: #E8F0FE;\n",
              "      border: none;\n",
              "      border-radius: 50%;\n",
              "      cursor: pointer;\n",
              "      display: none;\n",
              "      fill: #1967D2;\n",
              "      height: 32px;\n",
              "      padding: 0 0 0 0;\n",
              "      width: 32px;\n",
              "    }\n",
              "\n",
              "    .colab-df-convert:hover {\n",
              "      background-color: #E2EBFA;\n",
              "      box-shadow: 0px 1px 2px rgba(60, 64, 67, 0.3), 0px 1px 3px 1px rgba(60, 64, 67, 0.15);\n",
              "      fill: #174EA6;\n",
              "    }\n",
              "\n",
              "    .colab-df-buttons div {\n",
              "      margin-bottom: 4px;\n",
              "    }\n",
              "\n",
              "    [theme=dark] .colab-df-convert {\n",
              "      background-color: #3B4455;\n",
              "      fill: #D2E3FC;\n",
              "    }\n",
              "\n",
              "    [theme=dark] .colab-df-convert:hover {\n",
              "      background-color: #434B5C;\n",
              "      box-shadow: 0px 1px 3px 1px rgba(0, 0, 0, 0.15);\n",
              "      filter: drop-shadow(0px 1px 2px rgba(0, 0, 0, 0.3));\n",
              "      fill: #FFFFFF;\n",
              "    }\n",
              "  </style>\n",
              "\n",
              "    <script>\n",
              "      const buttonEl =\n",
              "        document.querySelector('#df-f58e33f1-b26f-4330-8157-66e30c164da0 button.colab-df-convert');\n",
              "      buttonEl.style.display =\n",
              "        google.colab.kernel.accessAllowed ? 'block' : 'none';\n",
              "\n",
              "      async function convertToInteractive(key) {\n",
              "        const element = document.querySelector('#df-f58e33f1-b26f-4330-8157-66e30c164da0');\n",
              "        const dataTable =\n",
              "          await google.colab.kernel.invokeFunction('convertToInteractive',\n",
              "                                                    [key], {});\n",
              "        if (!dataTable) return;\n",
              "\n",
              "        const docLinkHtml = 'Like what you see? Visit the ' +\n",
              "          '<a target=\"_blank\" href=https://colab.research.google.com/notebooks/data_table.ipynb>data table notebook</a>'\n",
              "          + ' to learn more about interactive tables.';\n",
              "        element.innerHTML = '';\n",
              "        dataTable['output_type'] = 'display_data';\n",
              "        await google.colab.output.renderOutput(dataTable, element);\n",
              "        const docLink = document.createElement('div');\n",
              "        docLink.innerHTML = docLinkHtml;\n",
              "        element.appendChild(docLink);\n",
              "      }\n",
              "    </script>\n",
              "  </div>\n",
              "\n",
              "\n",
              "<div id=\"df-00a99778-4ebf-43e7-b5f0-4fe11bd49baa\">\n",
              "  <button class=\"colab-df-quickchart\" onclick=\"quickchart('df-00a99778-4ebf-43e7-b5f0-4fe11bd49baa')\"\n",
              "            title=\"Suggest charts\"\n",
              "            style=\"display:none;\">\n",
              "\n",
              "<svg xmlns=\"http://www.w3.org/2000/svg\" height=\"24px\"viewBox=\"0 0 24 24\"\n",
              "     width=\"24px\">\n",
              "    <g>\n",
              "        <path d=\"M19 3H5c-1.1 0-2 .9-2 2v14c0 1.1.9 2 2 2h14c1.1 0 2-.9 2-2V5c0-1.1-.9-2-2-2zM9 17H7v-7h2v7zm4 0h-2V7h2v10zm4 0h-2v-4h2v4z\"/>\n",
              "    </g>\n",
              "</svg>\n",
              "  </button>\n",
              "\n",
              "<style>\n",
              "  .colab-df-quickchart {\n",
              "      --bg-color: #E8F0FE;\n",
              "      --fill-color: #1967D2;\n",
              "      --hover-bg-color: #E2EBFA;\n",
              "      --hover-fill-color: #174EA6;\n",
              "      --disabled-fill-color: #AAA;\n",
              "      --disabled-bg-color: #DDD;\n",
              "  }\n",
              "\n",
              "  [theme=dark] .colab-df-quickchart {\n",
              "      --bg-color: #3B4455;\n",
              "      --fill-color: #D2E3FC;\n",
              "      --hover-bg-color: #434B5C;\n",
              "      --hover-fill-color: #FFFFFF;\n",
              "      --disabled-bg-color: #3B4455;\n",
              "      --disabled-fill-color: #666;\n",
              "  }\n",
              "\n",
              "  .colab-df-quickchart {\n",
              "    background-color: var(--bg-color);\n",
              "    border: none;\n",
              "    border-radius: 50%;\n",
              "    cursor: pointer;\n",
              "    display: none;\n",
              "    fill: var(--fill-color);\n",
              "    height: 32px;\n",
              "    padding: 0;\n",
              "    width: 32px;\n",
              "  }\n",
              "\n",
              "  .colab-df-quickchart:hover {\n",
              "    background-color: var(--hover-bg-color);\n",
              "    box-shadow: 0 1px 2px rgba(60, 64, 67, 0.3), 0 1px 3px 1px rgba(60, 64, 67, 0.15);\n",
              "    fill: var(--button-hover-fill-color);\n",
              "  }\n",
              "\n",
              "  .colab-df-quickchart-complete:disabled,\n",
              "  .colab-df-quickchart-complete:disabled:hover {\n",
              "    background-color: var(--disabled-bg-color);\n",
              "    fill: var(--disabled-fill-color);\n",
              "    box-shadow: none;\n",
              "  }\n",
              "\n",
              "  .colab-df-spinner {\n",
              "    border: 2px solid var(--fill-color);\n",
              "    border-color: transparent;\n",
              "    border-bottom-color: var(--fill-color);\n",
              "    animation:\n",
              "      spin 1s steps(1) infinite;\n",
              "  }\n",
              "\n",
              "  @keyframes spin {\n",
              "    0% {\n",
              "      border-color: transparent;\n",
              "      border-bottom-color: var(--fill-color);\n",
              "      border-left-color: var(--fill-color);\n",
              "    }\n",
              "    20% {\n",
              "      border-color: transparent;\n",
              "      border-left-color: var(--fill-color);\n",
              "      border-top-color: var(--fill-color);\n",
              "    }\n",
              "    30% {\n",
              "      border-color: transparent;\n",
              "      border-left-color: var(--fill-color);\n",
              "      border-top-color: var(--fill-color);\n",
              "      border-right-color: var(--fill-color);\n",
              "    }\n",
              "    40% {\n",
              "      border-color: transparent;\n",
              "      border-right-color: var(--fill-color);\n",
              "      border-top-color: var(--fill-color);\n",
              "    }\n",
              "    60% {\n",
              "      border-color: transparent;\n",
              "      border-right-color: var(--fill-color);\n",
              "    }\n",
              "    80% {\n",
              "      border-color: transparent;\n",
              "      border-right-color: var(--fill-color);\n",
              "      border-bottom-color: var(--fill-color);\n",
              "    }\n",
              "    90% {\n",
              "      border-color: transparent;\n",
              "      border-bottom-color: var(--fill-color);\n",
              "    }\n",
              "  }\n",
              "</style>\n",
              "\n",
              "  <script>\n",
              "    async function quickchart(key) {\n",
              "      const quickchartButtonEl =\n",
              "        document.querySelector('#' + key + ' button');\n",
              "      quickchartButtonEl.disabled = true;  // To prevent multiple clicks.\n",
              "      quickchartButtonEl.classList.add('colab-df-spinner');\n",
              "      try {\n",
              "        const charts = await google.colab.kernel.invokeFunction(\n",
              "            'suggestCharts', [key], {});\n",
              "      } catch (error) {\n",
              "        console.error('Error during call to suggestCharts:', error);\n",
              "      }\n",
              "      quickchartButtonEl.classList.remove('colab-df-spinner');\n",
              "      quickchartButtonEl.classList.add('colab-df-quickchart-complete');\n",
              "    }\n",
              "    (() => {\n",
              "      let quickchartButtonEl =\n",
              "        document.querySelector('#df-00a99778-4ebf-43e7-b5f0-4fe11bd49baa button');\n",
              "      quickchartButtonEl.style.display =\n",
              "        google.colab.kernel.accessAllowed ? 'block' : 'none';\n",
              "    })();\n",
              "  </script>\n",
              "</div>\n",
              "\n",
              "  <div id=\"id_ea9a7fa8-6de0-4425-9f1e-80756c1ab554\">\n",
              "    <style>\n",
              "      .colab-df-generate {\n",
              "        background-color: #E8F0FE;\n",
              "        border: none;\n",
              "        border-radius: 50%;\n",
              "        cursor: pointer;\n",
              "        display: none;\n",
              "        fill: #1967D2;\n",
              "        height: 32px;\n",
              "        padding: 0 0 0 0;\n",
              "        width: 32px;\n",
              "      }\n",
              "\n",
              "      .colab-df-generate:hover {\n",
              "        background-color: #E2EBFA;\n",
              "        box-shadow: 0px 1px 2px rgba(60, 64, 67, 0.3), 0px 1px 3px 1px rgba(60, 64, 67, 0.15);\n",
              "        fill: #174EA6;\n",
              "      }\n",
              "\n",
              "      [theme=dark] .colab-df-generate {\n",
              "        background-color: #3B4455;\n",
              "        fill: #D2E3FC;\n",
              "      }\n",
              "\n",
              "      [theme=dark] .colab-df-generate:hover {\n",
              "        background-color: #434B5C;\n",
              "        box-shadow: 0px 1px 3px 1px rgba(0, 0, 0, 0.15);\n",
              "        filter: drop-shadow(0px 1px 2px rgba(0, 0, 0, 0.3));\n",
              "        fill: #FFFFFF;\n",
              "      }\n",
              "    </style>\n",
              "    <button class=\"colab-df-generate\" onclick=\"generateWithVariable('df')\"\n",
              "            title=\"Generate code using this dataframe.\"\n",
              "            style=\"display:none;\">\n",
              "\n",
              "  <svg xmlns=\"http://www.w3.org/2000/svg\" height=\"24px\"viewBox=\"0 0 24 24\"\n",
              "       width=\"24px\">\n",
              "    <path d=\"M7,19H8.4L18.45,9,17,7.55,7,17.6ZM5,21V16.75L18.45,3.32a2,2,0,0,1,2.83,0l1.4,1.43a1.91,1.91,0,0,1,.58,1.4,1.91,1.91,0,0,1-.58,1.4L9.25,21ZM18.45,9,17,7.55Zm-12,3A5.31,5.31,0,0,0,4.9,8.1,5.31,5.31,0,0,0,1,6.5,5.31,5.31,0,0,0,4.9,4.9,5.31,5.31,0,0,0,6.5,1,5.31,5.31,0,0,0,8.1,4.9,5.31,5.31,0,0,0,12,6.5,5.46,5.46,0,0,0,6.5,12Z\"/>\n",
              "  </svg>\n",
              "    </button>\n",
              "    <script>\n",
              "      (() => {\n",
              "      const buttonEl =\n",
              "        document.querySelector('#id_ea9a7fa8-6de0-4425-9f1e-80756c1ab554 button.colab-df-generate');\n",
              "      buttonEl.style.display =\n",
              "        google.colab.kernel.accessAllowed ? 'block' : 'none';\n",
              "\n",
              "      buttonEl.onclick = () => {\n",
              "        google.colab.notebook.generateWithVariable('df');\n",
              "      }\n",
              "      })();\n",
              "    </script>\n",
              "  </div>\n",
              "\n",
              "    </div>\n",
              "  </div>\n"
            ],
            "application/vnd.google.colaboratory.intrinsic+json": {
              "type": "dataframe",
              "variable_name": "df",
              "summary": "{\n  \"name\": \"df\",\n  \"rows\": 3650,\n  \"fields\": [\n    {\n      \"column\": \"Date\",\n      \"properties\": {\n        \"dtype\": \"object\",\n        \"num_unique_values\": 3650,\n        \"samples\": [\n          \"8/6/1984\",\n          \"8/3/1985\",\n          \"8/18/1981\"\n        ],\n        \"semantic_type\": \"\",\n        \"description\": \"\"\n      }\n    },\n    {\n      \"column\": \"Daily minimum temperatures\",\n      \"properties\": {\n        \"dtype\": \"category\",\n        \"num_unique_values\": 230,\n        \"samples\": [\n          \"1.7\",\n          \"14.5\",\n          \"13.3\"\n        ],\n        \"semantic_type\": \"\",\n        \"description\": \"\"\n      }\n    }\n  ]\n}"
            }
          },
          "metadata": {},
          "execution_count": 2
        }
      ]
    },
    {
      "cell_type": "markdown",
      "source": [
        "Karena Terdapat Beberapa data yang tidak bisa diolah maka kita bersihkan dulu data datanya"
      ],
      "metadata": {
        "id": "pyjHynvpCrNZ"
      }
    },
    {
      "cell_type": "code",
      "source": [
        "df['Daily minimum temperatures'].unique()"
      ],
      "metadata": {
        "colab": {
          "base_uri": "https://localhost:8080/"
        },
        "id": "UAflvyvTAcYI",
        "outputId": "ad88b95a-acd2-4942-d813-ae2d5aa437b7"
      },
      "execution_count": 3,
      "outputs": [
        {
          "output_type": "execute_result",
          "data": {
            "text/plain": [
              "array(['20.7', '17.9', '18.8', '14.6', '15.8', '17.4', '21.8', '20',\n",
              "       '16.2', '13.3', '16.7', '21.5', '25', '20.6', '24.8', '17.7',\n",
              "       '15.5', '18.2', '12.1', '14.4', '16', '16.5', '18.7', '19.4',\n",
              "       '17.2', '15.1', '15.4', '15.3', '21.9', '19.9', '16.6', '16.8',\n",
              "       '17.1', '15', '13.7', '13.9', '18.3', '22', '22.1', '21.2', '18.4',\n",
              "       '16.1', '15.7', '18.5', '16.9', '17.5', '17.8', '18.6', '17',\n",
              "       '14.3', '11.4', '16.3', '11.8', '12.2', '14.7', '11.3', '10.6',\n",
              "       '11.7', '14.2', '11.2', '8.1', '8', '8.8', '13.4', '10.9', '11',\n",
              "       '14.5', '18.1', '10', '14.9', '15.9', '13', '7.6', '11.5', '13.5',\n",
              "       '12.4', '13.2', '13.8', '9', '9.8', '8.9', '7.4', '9.9', '9.3',\n",
              "       '8.6', '11.9', '14', '12', '10.5', '10.7', '10.1', '5.3', '6.6',\n",
              "       '8.5', '5.9', '3.2', '2.1', '3.4', '5.4', '9.6', '12.3', '12.6',\n",
              "       '12.8', '11.6', '5.7', '7.1', '2.5', '3.5', '4.6', '7.7', '10.4',\n",
              "       '9.2', '6.1', '2.7', '4.3', '6.3', '3.8', '4.4', '4.8', '5.8',\n",
              "       '6.2', '7.3', '10.2', '9.5', '6.5', '7', '8.3', '6.8', '7.2', '5',\n",
              "       '6.9', '5.2', '3', '5.6', '7.9', '10.3', '9.7', '12.5', '3.9', '6',\n",
              "       '5.5', '7.5', '7.8', '14.1', '12.9', '9.1', '8.4', '13.6', '9.4',\n",
              "       '14.8', '16.4', '15.6', '11.1', '15.2', '19.1', '22.2', '24', '18',\n",
              "       '19.7', '25.2', '20.5', '19.3', '13.1', '19.5', '22.7', '19.2',\n",
              "       '22.8', '26.3', '8.7', '10.8', '3.7', '3.1', '0', '1.6', '2.6',\n",
              "       '2.3', '4.5', '8.2', '4', '1.3', '0.8', '4.2', '2.4', '2.8', '3.3',\n",
              "       '?0.2', '?0.8', '0.9', '2.2', '5.1', '12.7', '3.6', '6.7', '4.7',\n",
              "       '17.3', '20.3', '22.5', '20.4', '20.1', '21.1', '17.6', '4.9',\n",
              "       '1.5', '4.1', '0.7', '6.4', '18.9', '?0.1', '19', '24.3', '21',\n",
              "       '22.4', '21.7', '21.4', '0.6', '0.3', '1.4', '1.7', '2.9', '20.2',\n",
              "       '23', '24.1', '20.9', '23.4', '23.9', '19.8', '19.6', '0.5', '1.8',\n",
              "       '21.6'], dtype=object)"
            ]
          },
          "metadata": {},
          "execution_count": 3
        }
      ]
    },
    {
      "cell_type": "markdown",
      "source": [
        "kita ubah data nya menjadi numeric dan Untuk data Yang tidak bisa diubah ke Numeric ubah menjadi nan"
      ],
      "metadata": {
        "id": "neJBADmZAb75"
      }
    },
    {
      "cell_type": "code",
      "source": [
        "df['Daily minimum temperatures'] = pd.to_numeric(df['Daily minimum temperatures'], errors='coerce')\n",
        "df.isna().sum()"
      ],
      "metadata": {
        "colab": {
          "base_uri": "https://localhost:8080/"
        },
        "id": "xWxm_aAQBkfY",
        "outputId": "82d50d19-5ad3-43f2-8c60-206cd1e4cf30"
      },
      "execution_count": 4,
      "outputs": [
        {
          "output_type": "execute_result",
          "data": {
            "text/plain": [
              "Date                          0\n",
              "Daily minimum temperatures    3\n",
              "dtype: int64"
            ]
          },
          "metadata": {},
          "execution_count": 4
        }
      ]
    },
    {
      "cell_type": "markdown",
      "source": [
        "drop nan"
      ],
      "metadata": {
        "id": "8UkUFMmw-hCB"
      }
    },
    {
      "cell_type": "code",
      "source": [
        "df = df.dropna()\n",
        "df.info()"
      ],
      "metadata": {
        "colab": {
          "base_uri": "https://localhost:8080/"
        },
        "id": "BnVcN2g_8uIs",
        "outputId": "4e8ec42c-f2c7-412a-fa5e-9101c5d2ce80"
      },
      "execution_count": 5,
      "outputs": [
        {
          "output_type": "stream",
          "name": "stdout",
          "text": [
            "<class 'pandas.core.frame.DataFrame'>\n",
            "Index: 3647 entries, 0 to 3649\n",
            "Data columns (total 2 columns):\n",
            " #   Column                      Non-Null Count  Dtype  \n",
            "---  ------                      --------------  -----  \n",
            " 0   Date                        3647 non-null   object \n",
            " 1   Daily minimum temperatures  3647 non-null   float64\n",
            "dtypes: float64(1), object(1)\n",
            "memory usage: 85.5+ KB\n"
          ]
        }
      ]
    },
    {
      "cell_type": "code",
      "source": [
        "df.isna().sum()"
      ],
      "metadata": {
        "colab": {
          "base_uri": "https://localhost:8080/"
        },
        "id": "lC9fjZulCmRg",
        "outputId": "2fad9cca-b3ed-4b9f-94d7-335f64526acd"
      },
      "execution_count": 6,
      "outputs": [
        {
          "output_type": "execute_result",
          "data": {
            "text/plain": [
              "Date                          0\n",
              "Daily minimum temperatures    0\n",
              "dtype: int64"
            ]
          },
          "metadata": {},
          "execution_count": 6
        }
      ]
    },
    {
      "cell_type": "code",
      "source": [
        "date = df['Date'].values\n",
        "mintemp = df['Daily minimum temperatures'].values"
      ],
      "metadata": {
        "id": "7SD9-Mxi3HDh"
      },
      "execution_count": 7,
      "outputs": []
    },
    {
      "cell_type": "markdown",
      "source": [
        "Buat Plot untuk melihat sifat Data"
      ],
      "metadata": {
        "id": "e2EsR21W8RgA"
      }
    },
    {
      "cell_type": "code",
      "source": [
        "plt.figure(figsize=(15,5))\n",
        "plt.plot(date, mintemp)\n",
        "plt.xlabel('Date')\n",
        "plt.ylabel('Daily minimum temperatures')\n",
        "plt.title('Daily minimum temperatures')\n",
        "plt.show()"
      ],
      "metadata": {
        "colab": {
          "base_uri": "https://localhost:8080/",
          "height": 442
        },
        "id": "MQ6Vv9_p3VDb",
        "outputId": "afa194df-cc04-4947-9dab-13aad5bfd1a0"
      },
      "execution_count": 8,
      "outputs": [
        {
          "output_type": "display_data",
          "data": {
            "text/plain": [
              "<Figure size 1500x500 with 1 Axes>"
            ],
            "image/png": "[encoded data removed]"
          },
          "metadata": {}
        }
      ]
    },
    {
      "cell_type": "markdown",
      "source": [
        "dapat dilihat disini menunjukkan bahwa data ini merupakan time series yang sifatnya musiman."
      ],
      "metadata": {
        "id": "KqtEohGy4IkA"
      }
    },
    {
      "cell_type": "markdown",
      "source": [
        "Buat fungsi untuk Windowing data"
      ],
      "metadata": {
        "id": "M-bPbDH4FZst"
      }
    },
    {
      "cell_type": "code",
      "source": [
        "def windowed_dataset(series, size, batch, shuffle):\n",
        "    series = tf.expand_dims(series, axis=-1)\n",
        "    ds = tf.data.Dataset.from_tensor_slices(series)\n",
        "    ds = ds.window(size + 1, shift=1, drop_remainder=True)\n",
        "    ds = ds.flat_map(lambda w: w.batch(size + 1))\n",
        "    ds = ds.shuffle(shuffle)\n",
        "    ds = ds.map(lambda w: (w[:-1], w[-1:]))\n",
        "    return ds.batch(batch).prefetch(1)"
      ],
      "metadata": {
        "id": "Q35VF_1-6zRV"
      },
      "execution_count": 9,
      "outputs": []
    },
    {
      "cell_type": "markdown",
      "source": [
        "Implementasi Callback dimana train model akan dihentikan saat MAE sudah terpenuhi\n",
        "\n"
      ],
      "metadata": {
        "id": "yc2teh4XMbtb"
      }
    },
    {
      "cell_type": "code",
      "source": [
        "class myCallback(tf.keras.callbacks.Callback):\n",
        "    def on_epoch_end(self, epoch, logs={}):\n",
        "        if logs.get('mae') < 2.3:\n",
        "            print(\"\\nMAE telah Lebih kecil dari 10% data\")\n",
        "            self.model.stop_training = True\n",
        "callbacks = myCallback()"
      ],
      "metadata": {
        "id": "85xIFDaCMb0j"
      },
      "execution_count": 10,
      "outputs": []
    },
    {
      "cell_type": "markdown",
      "source": [
        "Validation set sebesar 20% dari total dataset."
      ],
      "metadata": {
        "id": "EO-5UFW-J4in"
      }
    },
    {
      "cell_type": "code",
      "source": [
        "date = df['Date'].values\n",
        "temp = df['Daily minimum temperatures'].values\n",
        "\n",
        "date_train, date_val, temp_train, temp_val = train_test_split(date, temp, test_size=0.2, shuffle=False)"
      ],
      "metadata": {
        "id": "tgWAozen7TYZ"
      },
      "execution_count": 11,
      "outputs": []
    },
    {
      "cell_type": "code",
      "source": [
        "train_set = windowed_dataset(temp_train, 30, 100, 1000)\n",
        "val_set = windowed_dataset(temp_val, 30, 100, 1000)"
      ],
      "metadata": {
        "id": "n-VS5sM_Jp8W"
      },
      "execution_count": 12,
      "outputs": []
    },
    {
      "cell_type": "markdown",
      "source": [
        "Harus menggunakan LSTM dalam arsitektur model dan menggunakan model sequential."
      ],
      "metadata": {
        "id": "HBJakAdvEoQo"
      }
    },
    {
      "cell_type": "code",
      "source": [
        "model = tf.keras.models.Sequential([\n",
        "  tf.keras.layers.LSTM(60, return_sequences=True),\n",
        "  tf.keras.layers.LSTM(60),\n",
        "  tf.keras.layers.Dense(32, activation=\"relu\"),\n",
        "  tf.keras.layers.Dense(16, activation=\"relu\"),\n",
        "  tf.keras.layers.Dense(1),\n",
        "])"
      ],
      "metadata": {
        "id": "E1KuVC9t7Oo5"
      },
      "execution_count": 13,
      "outputs": []
    },
    {
      "cell_type": "markdown",
      "source": [],
      "metadata": {
        "id": "MhUopx6xJpoO"
      }
    },
    {
      "cell_type": "markdown",
      "source": [
        "Harus menggunakan Learning Rate pada Optimizer."
      ],
      "metadata": {
        "id": "s34CBG-HFF7s"
      }
    },
    {
      "cell_type": "code",
      "source": [
        "optimizer = tf.keras.optimizers.SGD(learning_rate=1.0000e-04, momentum=0.9)\n",
        "model.compile(loss=tf.keras.losses.Huber(),\n",
        "              optimizer=optimizer,\n",
        "              metrics=[\"mae\"])"
      ],
      "metadata": {
        "id": "4vk-tyED7p5D"
      },
      "execution_count": 14,
      "outputs": []
    },
    {
      "cell_type": "markdown",
      "source": [
        "periksa Ambang batas MAE"
      ],
      "metadata": {
        "id": "T7sXDShPIWFL"
      }
    },
    {
      "cell_type": "code",
      "source": [
        "batas_mae = (df['Daily minimum temperatures'].max() - df['Daily minimum temperatures'].min()) * 10/100\n",
        "print(batas_mae)"
      ],
      "metadata": {
        "colab": {
          "base_uri": "https://localhost:8080/"
        },
        "id": "HSmuKAEoH-tR",
        "outputId": "a5e69dd1-46b6-45ea-b1b9-f14dbfc74718"
      },
      "execution_count": 15,
      "outputs": [
        {
          "output_type": "stream",
          "name": "stdout",
          "text": [
            "2.63\n"
          ]
        }
      ]
    },
    {
      "cell_type": "markdown",
      "source": [
        "Latih Model"
      ],
      "metadata": {
        "id": "G5_3jpS-FJmr"
      }
    },
    {
      "cell_type": "code",
      "source": [
        "history = model.fit(train_set,\n",
        "                    epochs=100,\n",
        "                    callbacks=[callbacks],\n",
        "                    validation_data=val_set)"
      ],
      "metadata": {
        "colab": {
          "base_uri": "https://localhost:8080/"
        },
        "id": "RCYSd9xe79dn",
        "outputId": "fe16f4d8-3368-4aa2-f093-36bbcb949820"
      },
      "execution_count": 16,
      "outputs": [
        {
          "output_type": "stream",
          "name": "stdout",
          "text": [
            "Epoch 1/100\n",
            "29/29 [==============================] - 11s 188ms/step - loss: 10.3576 - mae: 10.8569 - val_loss: 10.5015 - val_mae: 11.0010\n",
            "Epoch 2/100\n",
            "29/29 [==============================] - 3s 82ms/step - loss: 10.1321 - mae: 10.6312 - val_loss: 10.2702 - val_mae: 10.7694\n",
            "Epoch 3/100\n",
            "29/29 [==============================] - 2s 77ms/step - loss: 9.8906 - mae: 10.3896 - val_loss: 10.0114 - val_mae: 10.5108\n",
            "Epoch 4/100\n",
            "29/29 [==============================] - 3s 115ms/step - loss: 9.6090 - mae: 10.1077 - val_loss: 9.6972 - val_mae: 10.1963\n",
            "Epoch 5/100\n",
            "29/29 [==============================] - 2s 75ms/step - loss: 9.2559 - mae: 9.7547 - val_loss: 9.2923 - val_mae: 9.7901\n",
            "Epoch 6/100\n",
            "29/29 [==============================] - 2s 76ms/step - loss: 8.7721 - mae: 9.2704 - val_loss: 8.7029 - val_mae: 9.1995\n",
            "Epoch 7/100\n",
            "29/29 [==============================] - 2s 75ms/step - loss: 8.0718 - mae: 8.5688 - val_loss: 7.8734 - val_mae: 8.3711\n",
            "Epoch 8/100\n",
            "29/29 [==============================] - 3s 104ms/step - loss: 7.0942 - mae: 7.5896 - val_loss: 6.7132 - val_mae: 7.2085\n",
            "Epoch 9/100\n",
            "29/29 [==============================] - 3s 102ms/step - loss: 5.7538 - mae: 6.2435 - val_loss: 5.1447 - val_mae: 5.6282\n",
            "Epoch 10/100\n",
            "29/29 [==============================] - 2s 77ms/step - loss: 4.1396 - mae: 4.6193 - val_loss: 3.5482 - val_mae: 4.0162\n",
            "Epoch 11/100\n",
            "29/29 [==============================] - 3s 84ms/step - loss: 2.9317 - mae: 3.3981 - val_loss: 2.8033 - val_mae: 3.2695\n",
            "Epoch 12/100\n",
            "29/29 [==============================] - 4s 116ms/step - loss: 2.5758 - mae: 3.0402 - val_loss: 2.6822 - val_mae: 3.1497\n",
            "Epoch 13/100\n",
            "29/29 [==============================] - 2s 78ms/step - loss: 2.5258 - mae: 2.9897 - val_loss: 2.6258 - val_mae: 3.0930\n",
            "Epoch 14/100\n",
            "29/29 [==============================] - 2s 78ms/step - loss: 2.4767 - mae: 2.9405 - val_loss: 2.5656 - val_mae: 3.0314\n",
            "Epoch 15/100\n",
            "29/29 [==============================] - 2s 81ms/step - loss: 2.4203 - mae: 2.8822 - val_loss: 2.4847 - val_mae: 2.9491\n",
            "Epoch 16/100\n",
            "29/29 [==============================] - 4s 118ms/step - loss: 2.3484 - mae: 2.8093 - val_loss: 2.3713 - val_mae: 2.8343\n",
            "Epoch 17/100\n",
            "29/29 [==============================] - 4s 132ms/step - loss: 2.2379 - mae: 2.6965 - val_loss: 2.2171 - val_mae: 2.6761\n",
            "Epoch 18/100\n",
            "29/29 [==============================] - 3s 93ms/step - loss: 2.1242 - mae: 2.5807 - val_loss: 2.0644 - val_mae: 2.5191\n",
            "Epoch 19/100\n",
            "29/29 [==============================] - 3s 94ms/step - loss: 2.0052 - mae: 2.4585 - val_loss: 1.9077 - val_mae: 2.3574\n",
            "Epoch 20/100\n",
            "29/29 [==============================] - 4s 125ms/step - loss: 1.9040 - mae: 2.3534 - val_loss: 1.7576 - val_mae: 2.2084\n",
            "Epoch 21/100\n",
            "29/29 [==============================] - ETA: 0s - loss: 1.8072 - mae: 2.2553\n",
            "MAE telah Lebih kecil dari 10% data\n",
            "29/29 [==============================] - 2s 76ms/step - loss: 1.8072 - mae: 2.2553 - val_loss: 1.6544 - val_mae: 2.1048\n"
          ]
        }
      ]
    },
    {
      "cell_type": "markdown",
      "source": [
        "terlihat bahwa batas MAE terpenuhi (2.63>2.2553)"
      ],
      "metadata": {
        "id": "klePBWrtIasb"
      }
    },
    {
      "cell_type": "code",
      "source": [
        "plt.plot(history.history['mae'], label='Train MAE')\n",
        "plt.plot(history.history['val_mae'], label='Val MAE')\n",
        "plt.title('Model MAE')\n",
        "plt.ylabel('MAE')\n",
        "plt.xlabel('Epoch')\n",
        "plt.legend()"
      ],
      "metadata": {
        "colab": {
          "base_uri": "https://localhost:8080/",
          "height": 489
        },
        "id": "0XYIR-iWN3qd",
        "outputId": "8690d0d6-5f8d-47e3-ca7e-a06dff99f766"
      },
      "execution_count": 17,
      "outputs": [
        {
          "output_type": "execute_result",
          "data": {
            "text/plain": [
              "<matplotlib.legend.Legend at 0x78e264649b40>"
            ]
          },
          "metadata": {},
          "execution_count": 17
        },
        {
          "output_type": "display_data",
          "data": {
            "text/plain": [
              "<Figure size 640x480 with 1 Axes>"
            ],
            "image/png": "[encoded data removed]"
          },
          "metadata": {}
        }
      ]
    }
  ]
}